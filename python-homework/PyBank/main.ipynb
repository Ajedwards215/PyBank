{
 "cells": [
  {
   "cell_type": "code",
   "execution_count": 19,
   "id": "bb8fe0fb-45c1-4dcb-a370-eac5991c5aef",
   "metadata": {},
   "outputs": [
    {
     "name": "stdout",
     "output_type": "stream",
     "text": [
      "Financial Analysis\n",
      "-----------------------\n",
      "Total Months:  86\n",
      "Total:  $38382578\n",
      "Average Change:  $-2288.20\n",
      "Greatest Increase in Profits:  Feb-12  ( $1926159 )\n",
      "Greatest Decrease in Profits:  Sep-13  ( $-2196167 )\n"
     ]
    }
   ],
   "source": [
    "#Import addins\n",
    "import os\n",
    "import csv\n",
    "Budget = {}\n",
    "\n",
    "#Initialize the variables\n",
    "months = 0\n",
    "total_pl = 0\n",
    "average_change = 0 \n",
    "prevalue = 0\n",
    "total_value = 0\n",
    "max_profit = 0\n",
    "max_profit_date = \"\"\n",
    "max_loss = 0\n",
    "max_loss_date = \"\"\n",
    "i = 0\n",
    "#Create path for CSV file\n",
    "with open('budget_data.csv', 'r') as csv_file:\n",
    "    reader = csv.reader(csv_file)\n",
    "#Adjusting down a row to get start of data\n",
    "    header = next(reader)\n",
    "#Calculate Total Months\n",
    "    for row in reader:\n",
    "        i += 1\n",
    "        if i == 1:\n",
    "            prevalue = int(row[1])\n",
    "            total_pl = int(row[1])\n",
    "            months = months + 1\n",
    "#Calculate Greatest Increase\n",
    "        else:\n",
    "            if max_profit < (int(row[1]) - prevalue):\n",
    "                max_profit = int(row[1]) - prevalue\n",
    "                max_profit_date = row[0]\n",
    "#Calculate Greatest Decrease\n",
    "            if max_loss > (int(row[1]) - prevalue):\n",
    "                max_loss = (int(row[1]) - prevalue)\n",
    "                max_loss_date = row[0]\n",
    "#Calculate Average Change\n",
    "            average_change += int(row[1])-prevalue\n",
    "            total_pl += int(row[1])\n",
    "            months = months + 1\n",
    "            prevalue= int(row[1])\n",
    "\n",
    "#Formula for Avergae Change\n",
    "average_change = average_change/(months)\n",
    "\n",
    "print(\"Financial Analysis\")\n",
    "print(\"-----------------------\")\n",
    "#Print the total number of months included in the datase\n",
    "print(\"Total Months: \",months)\n",
    "#Print the net total amount of Profit/Losses over the entire period.\n",
    "total_pl = \"${:.0f}\".format(total_pl)\n",
    "print(\"Total: \",total_pl)\n",
    "#Print the average of the changes in Profit/Losses over the entire period.\n",
    "average_change = \"${:.2f}\".format(average_change)\n",
    "print(\"Average Change: \", average_change)\n",
    "#Print the greatest increase in profits (date and amount) over the entire period\n",
    "max_profit = \"${:.0f}\".format(max_profit)\n",
    "print(\"Greatest Increase in Profits: \",max_profit_date,\" (\", max_profit,\")\")\n",
    "#Print the greatest decrease in losses (date and amount) over the entire period.\n",
    "max_loss = \"${:.0f}\".format(max_loss)\n",
    "print(\"Greatest Decrease in Profits: \",max_loss_date,\" (\", max_loss,\")\")\n",
    "\n",
    "\n"
   ]
  },
  {
   "cell_type": "code",
   "execution_count": 21,
   "id": "ba5aa8f0-38b6-435f-ac63-9b13de040896",
   "metadata": {},
   "outputs": [],
   "source": [
    "#Export the analyis to a txt file that contians the final results\n",
    "txtpath=path\n",
    "txtPath = os.path.join(\"financial-analysis.txt\")\n",
    "path = open(txtPath, \"w\")\n",
    "\n",
    "f\"Financial Analysis\"\n",
    "f\"-----------------------------\"\n",
    "f\"Total Months: \",months\n",
    "f\"Total: \",total_pl\n",
    "f\"Average Change: \", average_change\n",
    "f\"Greatest Increase in Profits: \",max_profit_date,\" (\", max_profit,\")\"\n",
    "f\"Greatest Decrease in Profits: \",max_loss_date,\" (\", max_loss,\")\"\n",
    "\n",
    "path.close()\n",
    "path=txtpath\n"
   ]
  },
  {
   "cell_type": "code",
   "execution_count": null,
   "id": "a73cbd04-e8e2-4bef-b752-9b065c086025",
   "metadata": {},
   "outputs": [],
   "source": [
    "\n",
    "\n",
    "   \n",
    "\n",
    "    "
   ]
  }
 ],
 "metadata": {
  "kernelspec": {
   "display_name": "Python 3",
   "language": "python",
   "name": "python3"
  },
  "language_info": {
   "codemirror_mode": {
    "name": "ipython",
    "version": 3
   },
   "file_extension": ".py",
   "mimetype": "text/x-python",
   "name": "python",
   "nbconvert_exporter": "python",
   "pygments_lexer": "ipython3",
   "version": "3.8.8"
  }
 },
 "nbformat": 4,
 "nbformat_minor": 5
}
